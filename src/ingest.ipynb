{
 "cells": [
  {
   "cell_type": "code",
   "execution_count": null,
   "id": "14580f78",
   "metadata": {},
   "outputs": [],
   "source": [
    "import pandas as pd\n",
    "import numpy as np\n",
    "import os\n",
    "import sys\n",
    "import argparse\n",
    "import logging\n",
    "from ydata_profiling import ProfileReport\n",
    "from IPython.display import display, HTML\n",
    "from datetime import timedelta\n",
    "import lightgbm as lgb"
   ]
  },
  {
   "cell_type": "markdown",
   "id": "f39c4bf2",
   "metadata": {},
   "source": [
    "### Ingest Data from Csv"
   ]
  },
  {
   "cell_type": "code",
   "execution_count": null,
   "id": "907b8fcb",
   "metadata": {},
   "outputs": [],
   "source": [
    "df = pd.read_csv('../data/raw.csv')"
   ]
  },
  {
   "cell_type": "code",
   "execution_count": null,
   "id": "47828983",
   "metadata": {},
   "outputs": [],
   "source": [
    "df.info()"
   ]
  },
  {
   "cell_type": "code",
   "execution_count": null,
   "id": "e76e58eb",
   "metadata": {},
   "outputs": [],
   "source": [
    "df.describe()"
   ]
  },
  {
   "cell_type": "code",
   "execution_count": null,
   "id": "d9f7d736",
   "metadata": {},
   "outputs": [],
   "source": [
    "df.head()"
   ]
  },
  {
   "cell_type": "code",
   "execution_count": null,
   "id": "b52a045b",
   "metadata": {},
   "outputs": [],
   "source": [
    "# # Convert columns to numeric where appropriate\n",
    "# numeric_cols = []\n",
    "# df[numeric_cols] = df[numeric_cols].apply(pd.to_numeric, errors='coerce')\n",
    "\n",
    "# # Convert timeStamp to datetime\n",
    "# df['timeStamp'] = pd.to_datetime(df['timeStamp'], errors='coerce')\n",
    "\n",
    "# # If tripID and deviceID are categorical, you can convert them as well\n"
   ]
  },
  {
   "cell_type": "code",
   "execution_count": null,
   "id": "38e16d90",
   "metadata": {},
   "outputs": [],
   "source": [
    "df = df.drop_duplicates().dropna()"
   ]
  },
  {
   "cell_type": "code",
   "execution_count": null,
   "id": "11a6110e",
   "metadata": {},
   "outputs": [],
   "source": [
    "end_date = pd.Timestamp.today()\n",
    "start_date = end_date - pd.DateOffset(months=6)\n",
    "last_15_days = end_date - timedelta(days=15)\n",
    "\n",
    "df['timestamp'] = pd.to_datetime(\n",
    "    np.random.uniform(start_date.value, end_date.value, size=len(df))\n",
    ").floor('s')\n",
    "\n",
    "df['hour'] = df['timestamp'].dt.hour\n",
    "df['day'] = df['timestamp'].dt.day\n",
    "df['weekday'] = df['timestamp'].dt.weekday\n",
    "df['month'] = df['timestamp'].dt.month\n",
    "df['year'] = df['timestamp'].dt.year\n"
   ]
  },
  {
   "cell_type": "code",
   "execution_count": null,
   "id": "b104deae",
   "metadata": {},
   "outputs": [],
   "source": [
    "report = ProfileReport(df,\n",
    "                title='Feature Profiling',\n",
    "                infer_dtypes=False,\n",
    "                interactions=None,\n",
    "                missing_diagrams=None,\n",
    "                correlations={\"auto\": {\"calculate\": False},\n",
    "                            \"pearson\": {\"calculate\": True},\n",
    "                            \"spearman\": {\"calculate\": True}})"
   ]
  },
  {
   "cell_type": "code",
   "execution_count": null,
   "id": "0080f11b",
   "metadata": {},
   "outputs": [],
   "source": [
    "display(HTML(report.html))"
   ]
  },
  {
   "cell_type": "markdown",
   "id": "abc52896",
   "metadata": {},
   "source": [
    "### Fix skewness in features\n",
    "Log transformation compresses the range of the data and can help reduce right skewness by bringing the long tail closer to the bulk of the data.\n",
    "\n",
    "Use Case: Right-skewed data where all values are positive."
   ]
  },
  {
   "cell_type": "code",
   "execution_count": null,
   "id": "85aabd24",
   "metadata": {},
   "outputs": [],
   "source": [
    "for col in ['Insulin','Leptin','Resistin','MCP.1']:\n",
    "    df[col] = np.log1p(df[col])"
   ]
  },
  {
   "cell_type": "markdown",
   "id": "edef6b17",
   "metadata": {},
   "source": [
    "### Clipping Outliers"
   ]
  },
  {
   "cell_type": "code",
   "execution_count": null,
   "id": "70828326",
   "metadata": {},
   "outputs": [],
   "source": [
    "for col in df.columns:\n",
    "    lower, upper = df[col].quantile([0.01,0.99])\n",
    "    df[col] = df[col].clip(lower, upper)"
   ]
  },
  {
   "cell_type": "markdown",
   "id": "10d2bba8",
   "metadata": {},
   "source": [
    "### Derive new features"
   ]
  },
  {
   "cell_type": "code",
   "execution_count": null,
   "id": "a1729146",
   "metadata": {},
   "outputs": [],
   "source": [
    "df['BMI_HOMA']     = df['BMI'] * df['HOMA']\n",
    "df['L_A_ratio']   = df['Leptin'] / df['Adiponectin']"
   ]
  },
  {
   "cell_type": "markdown",
   "id": "a9c0a83d",
   "metadata": {},
   "source": [
    "### Traget Normalisation"
   ]
  },
  {
   "cell_type": "code",
   "execution_count": null,
   "id": "86e72cfe",
   "metadata": {},
   "outputs": [],
   "source": [
    "df['Classification'] = np.where(df['Classification'] > 1.5, 1, 0)\n",
    "df = df.rename(columns={'Classification': 'Target'})"
   ]
  },
  {
   "cell_type": "markdown",
   "id": "3014ec36",
   "metadata": {},
   "source": [
    "### Keeping out data from last 15 days for Predictions "
   ]
  },
  {
   "cell_type": "code",
   "execution_count": null,
   "id": "80e1b636",
   "metadata": {},
   "outputs": [],
   "source": [
    "pred = df[df['timestamp'] >= last_15_days]\n",
    "df = df.drop(pred.index)"
   ]
  },
  {
   "cell_type": "markdown",
   "id": "2e6d3887",
   "metadata": {},
   "source": [
    "### Remove timestamp"
   ]
  },
  {
   "cell_type": "code",
   "execution_count": null,
   "id": "26a1e9ca",
   "metadata": {},
   "outputs": [],
   "source": [
    "df = df.drop(columns=['timestamp'])\n",
    "pred = pred.drop(columns=['timestamp'])"
   ]
  },
  {
   "cell_type": "markdown",
   "id": "bd3d10cf",
   "metadata": {},
   "source": [
    "### Export transformed data "
   ]
  },
  {
   "cell_type": "code",
   "execution_count": null,
   "id": "a81b0dec",
   "metadata": {},
   "outputs": [],
   "source": [
    "df.to_csv('../data/clean.csv', index=False)\n",
    "pred.to_csv('../data/pred.csv', index=False)"
   ]
  }
 ],
 "metadata": {
  "kernelspec": {
   "display_name": "cancer_classifier_env",
   "language": "python",
   "name": "python3"
  },
  "language_info": {
   "codemirror_mode": {
    "name": "ipython",
    "version": 3
   },
   "file_extension": ".py",
   "mimetype": "text/x-python",
   "name": "python",
   "nbconvert_exporter": "python",
   "pygments_lexer": "ipython3",
   "version": "3.12.11"
  }
 },
 "nbformat": 4,
 "nbformat_minor": 5
}
