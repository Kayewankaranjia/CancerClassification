{
 "cells": [
  {
   "cell_type": "code",
   "execution_count": null,
   "metadata": {
    "application/vnd.databricks.v1+cell": {
     "cellMetadata": {
      "byteLimit": 2048000,
      "rowLimit": 10000
     },
     "inputWidgets": {},
     "nuid": "280f139f-dcb5-4d49-9bbc-0e95d5e7c311",
     "showTitle": false,
     "tableResultSettingsMap": {},
     "title": ""
    }
   },
   "outputs": [],
   "source": [
    "from sklearn.metrics import (\n",
    "    accuracy_score,\n",
    "    f1_score,\n",
    "    fbeta_score,\n",
    "    log_loss,\n",
    "    precision_score,\n",
    "    recall_score,\n",
    "    roc_auc_score,\n",
    "    brier_score_loss,\n",
    ")\n",
    "import numpy as np\n",
    "import pandas as pd\n",
    "import time\n",
    "import mlflow\n",
    "import lightgbm as lgb\n",
    "import os\n",
    "from datetime import datetime, timedelta, date\n",
    "from dateutil.relativedelta import relativedelta\n",
    "from typing import Dict, List, Tuple\n",
    "import matplotlib.pyplot as plt\n",
    "import seaborn as sns\n",
    "import pyspark.sql.types as spark_types\n",
    "\n",
    "from mlflow.tracking.client import MlflowClient"
   ]
  },
  {
   "cell_type": "code",
   "execution_count": 0,
   "metadata": {
    "application/vnd.databricks.v1+cell": {
     "cellMetadata": {
      "byteLimit": 2048000,
      "rowLimit": 10000
     },
     "inputWidgets": {},
     "nuid": "46e58a4d-3411-4c3a-9783-1510efa62041",
     "showTitle": false,
     "tableResultSettingsMap": {},
     "title": ""
    }
   },
   "outputs": [],
   "source": [
    "\n",
    "mlflow.set_registry_uri(\"databricks-uc\")"
   ]
  },
  {
   "cell_type": "markdown",
   "metadata": {
    "application/vnd.databricks.v1+cell": {
     "cellMetadata": {
      "byteLimit": 2048000,
      "rowLimit": 10000
     },
     "inputWidgets": {},
     "nuid": "c6e39cd3-cfa4-4bf6-9c9c-328ed1db2896",
     "showTitle": false,
     "tableResultSettingsMap": {},
     "title": ""
    }
   },
   "source": []
  },
  {
   "cell_type": "code",
   "execution_count": 0,
   "metadata": {
    "application/vnd.databricks.v1+cell": {
     "cellMetadata": {
      "byteLimit": 2048000,
      "rowLimit": 10000
     },
     "inputWidgets": {},
     "nuid": "b24e303d-3e31-4b8c-a06c-6b729b74aeb5",
     "showTitle": false,
     "tableResultSettingsMap": {},
     "title": ""
    }
   },
   "outputs": [],
   "source": [
    "experiment_name = f\"/cancer_classification_prediction\"\n",
    "run_name = \"cancer_classification_prediction_\" + str(pd.Timestamp.now().strftime(\"%Y-%m-%d %H:%M:%S\"))\n",
    "full_model_name = \"cancer_classification_model\"\n",
    "\n",
    "LABEL = \"Target\"\n",
    "y_pred_threshold = 0.5"
   ]
  },
  {
   "cell_type": "code",
   "execution_count": 0,
   "metadata": {
    "application/vnd.databricks.v1+cell": {
     "cellMetadata": {
      "byteLimit": 2048000,
      "rowLimit": 10000
     },
     "inputWidgets": {},
     "nuid": "d78fb8e7-997c-42a5-85fb-0ea2655d0675",
     "showTitle": false,
     "tableResultSettingsMap": {},
     "title": ""
    }
   },
   "outputs": [],
   "source": [
    "mlflow_metrics = {} # a place to pop new metrics into\n",
    "mlflow_figures = {} # a place to pop new matplotlib/sns figures into\n",
    "mlflow_tables = {} # a place to pop new matplotlib/sns figures into\n",
    "mlflow_artifact_paths = []\n",
    "\n",
    "def push_metric(metric_name: str, metric_value: any) -> None:\n",
    "    print(f\"Adding metric {metric_name}: {metric_value}\")\n",
    "    mlflow_metrics[metric_name] = metric_value\n",
    "\n",
    "def push_figure(figure_name: str, figure_value: any):\n",
    "    print(f\"Adding figure {figure_name}: {figure_value}\")\n",
    "    mlflow_figures[figure_name] = figure_value\n",
    "\n",
    "def push_table(table_name: str, table_value: any):\n",
    "    print(f\"Adding table {table_name}: {table_value}\")\n",
    "    mlflow_tables[table_name] = table_value\n",
    "\n",
    "def push_artifact(file_path: str):\n",
    "    print(f\"Adding artifact {file_path}\")\n",
    "    mlflow_artifact_paths.append(file_path)"
   ]
  },
  {
   "cell_type": "code",
   "execution_count": 0,
   "metadata": {
    "application/vnd.databricks.v1+cell": {
     "cellMetadata": {
      "byteLimit": 2048000,
      "rowLimit": 10000
     },
     "inputWidgets": {},
     "nuid": "ed5704b7-baa8-4c23-b0c4-d307647771c2",
     "showTitle": false,
     "tableResultSettingsMap": {},
     "title": ""
    }
   },
   "outputs": [],
   "source": [
    "mlflow.set_registry_uri(\"databricks-uc\")\n",
    "mlflow.set_experiment(experiment_name)\n",
    "run = mlflow.start_run(run_name=run_name, description=f\"Creating predictions for {experiment_name} using model {full_model_name}\")\n",
    "print(f\"creating run called {run.info.run_name}\")"
   ]
  },
  {
   "cell_type": "code",
   "execution_count": 0,
   "metadata": {
    "application/vnd.databricks.v1+cell": {
     "cellMetadata": {
      "byteLimit": 2048000,
      "rowLimit": 10000
     },
     "inputWidgets": {},
     "nuid": "694fcea1-da4a-4fed-84bd-d8c614d8b444",
     "showTitle": false,
     "tableResultSettingsMap": {},
     "title": ""
    }
   },
   "outputs": [],
   "source": [
    "preddf = pd.read_csv('../data/pred.csv')"
   ]
  },
  {
   "cell_type": "code",
   "execution_count": 0,
   "metadata": {
    "application/vnd.databricks.v1+cell": {
     "cellMetadata": {
      "byteLimit": 2048000,
      "rowLimit": 10000
     },
     "inputWidgets": {},
     "nuid": "4b28499a-f26b-4c3d-bfe1-379a663a151d",
     "showTitle": false,
     "tableResultSettingsMap": {},
     "title": ""
    }
   },
   "outputs": [],
   "source": [
    "preddf.describe()"
   ]
  },
  {
   "cell_type": "code",
   "execution_count": 0,
   "metadata": {
    "application/vnd.databricks.v1+cell": {
     "cellMetadata": {
      "byteLimit": 2048000,
      "rowLimit": 10000
     },
     "inputWidgets": {},
     "nuid": "73685868-ab77-4197-938c-eb612255d0ef",
     "showTitle": false,
     "tableResultSettingsMap": {},
     "title": ""
    }
   },
   "outputs": [],
   "source": [
    "\n",
    "model_version = 4  # or use a specific version, e.g., \"1\"\n",
    "\n",
    "lgbm_model = mlflow.lightgbm.load_model(\n",
    "    model_uri=f\"models:/cancer_classification_model/{model_version}\"\n",
    ")"
   ]
  },
  {
   "cell_type": "code",
   "execution_count": 0,
   "metadata": {
    "application/vnd.databricks.v1+cell": {
     "cellMetadata": {
      "byteLimit": 2048000,
      "rowLimit": 10000
     },
     "inputWidgets": {},
     "nuid": "bb82ee4d-3414-4397-8144-a265e63816b7",
     "showTitle": false,
     "tableResultSettingsMap": {},
     "title": ""
    }
   },
   "outputs": [],
   "source": [
    "lgbm_model"
   ]
  },
  {
   "cell_type": "code",
   "execution_count": null,
   "metadata": {
    "application/vnd.databricks.v1+cell": {
     "cellMetadata": {
      "byteLimit": 2048000,
      "rowLimit": 10000
     },
     "inputWidgets": {},
     "nuid": "66caec77-e9fa-4189-84b5-44086201f323",
     "showTitle": false,
     "tableResultSettingsMap": {},
     "title": ""
    }
   },
   "outputs": [],
   "source": [
    "\n",
    "\n",
    "# Prepare data for predictions. In a real world we would not have target in the prediction dataset\n",
    "Y = preddf['Target']  \n",
    "X = preddf.drop(['Target'], axis=1)\n",
    "\n",
    "# Generate predictions\n",
    "y_pred = lgbm_model.predict(X)\n",
    "print(y_pred)"
   ]
  },
  {
   "cell_type": "code",
   "execution_count": 0,
   "metadata": {
    "application/vnd.databricks.v1+cell": {
     "cellMetadata": {
      "byteLimit": 2048000,
      "rowLimit": 10000
     },
     "inputWidgets": {},
     "nuid": "bb51b2c2-ecbd-4097-9933-049e2b77b750",
     "showTitle": false,
     "tableResultSettingsMap": {},
     "title": ""
    }
   },
   "outputs": [],
   "source": [
    "push_metric(\"Average raw probability\", y_pred.mean())"
   ]
  },
  {
   "cell_type": "code",
   "execution_count": null,
   "metadata": {
    "application/vnd.databricks.v1+cell": {
     "cellMetadata": {
      "byteLimit": 2048000,
      "rowLimit": 10000
     },
     "inputWidgets": {},
     "nuid": "a27ab1d7-6cbd-4586-bbca-8814c5e80d6e",
     "showTitle": false,
     "tableResultSettingsMap": {},
     "title": ""
    }
   },
   "outputs": [],
   "source": [
    "y_pred_abs = (y_pred >= y_pred_threshold).astype(int)"
   ]
  },
  {
   "cell_type": "markdown",
   "metadata": {
    "application/vnd.databricks.v1+cell": {
     "cellMetadata": {
      "byteLimit": 2048000,
      "rowLimit": 10000
     },
     "inputWidgets": {},
     "nuid": "f9856eb7-8953-41c6-87e1-7771c877f0e5",
     "showTitle": false,
     "tableResultSettingsMap": {},
     "title": ""
    }
   },
   "source": [
    "Probability KDE Plot"
   ]
  },
  {
   "cell_type": "code",
   "execution_count": null,
   "metadata": {},
   "outputs": [],
   "source": [
    "plt.figure(figsize=(8, 5))\n",
    "for label in np.unique(Y):\n",
    "    subset = y_pred[Y == label]\n",
    "    sns.kdeplot(subset, label=f\"Target={label}\", fill=True)\n",
    "plt.title(\"Kernel Density Estimate (KDE) of Predicted Probabilities by True Class\")\n",
    "plt.xlabel(\"Predicted Probability\")\n",
    "plt.ylabel(\"Density\")\n",
    "plt.legend()\n",
    "plt.tight_layout()\n",
    "plt.show()\n"
   ]
  },
  {
   "cell_type": "code",
   "execution_count": 0,
   "metadata": {
    "application/vnd.databricks.v1+cell": {
     "cellMetadata": {
      "byteLimit": 2048000,
      "rowLimit": 10000
     },
     "inputWidgets": {},
     "nuid": "57b3fe3f-7898-4de2-809c-b0c737dca780",
     "showTitle": false,
     "tableResultSettingsMap": {},
     "title": ""
    }
   },
   "outputs": [],
   "source": [
    "sns.kdeplot(y_pred,fill=True)\n",
    "plt.xlim(0, 1)\n",
    "plt.title(\"KDE plot\")\n",
    "push_figure(\"kde_plot.png\", plt.gcf())\n",
    "plt.show()"
   ]
  },
  {
   "cell_type": "markdown",
   "metadata": {
    "application/vnd.databricks.v1+cell": {
     "cellMetadata": {
      "byteLimit": 2048000,
      "rowLimit": 10000
     },
     "inputWidgets": {},
     "nuid": "4838cd47-ff23-4749-b575-bbb6f55dea92",
     "showTitle": false,
     "tableResultSettingsMap": {},
     "title": ""
    }
   },
   "source": [
    "Calculate Metrics "
   ]
  },
  {
   "cell_type": "code",
   "execution_count": 0,
   "metadata": {
    "application/vnd.databricks.v1+cell": {
     "cellMetadata": {
      "byteLimit": 2048000,
      "rowLimit": 10000
     },
     "inputWidgets": {},
     "nuid": "e4a7d13c-5041-4bbb-bd38-2a8e7f9bd378",
     "showTitle": false,
     "tableResultSettingsMap": {},
     "title": ""
    }
   },
   "outputs": [],
   "source": [
    "def get_model_metrics(\n",
    "    y_test: pd.DataFrame, y_pred_probablity: pd.Series, y_pred_label: pd.Series\n",
    ") -> dict:\n",
    "   \n",
    "    # pred_threshold = np.percentile(y_pred_probablity, 60)\n",
    "    # y_pred_label = np.where(y_pred_probablity >= pred_threshold, 1, 0)\n",
    "\n",
    "    metrics = {\n",
    "        \"logloss\": log_loss(y_test, y_pred_probablity),\n",
    "        \"accuracy\": accuracy_score(y_test, y_pred_label),        \n",
    "        \"f1_score\": f1_score(y_test, y_pred_label),\n",
    "        \"f05_score\": fbeta_score(y_test, y_pred_label, beta=0.5),\n",
    "        \"precision_score\": precision_score(y_test, y_pred_label),\n",
    "        \"recall_score\": recall_score(y_test, y_pred_label),\n",
    "        \"roc_auc_score\": roc_auc_score(y_test, y_pred_probablity),\n",
    "        \"y_real_mean\": y_test.mean(),\n",
    "        \"y_pred_mean\": y_pred_probablity.mean(),\n",
    "    }\n",
    "    return metrics"
   ]
  },
  {
   "cell_type": "code",
   "execution_count": 0,
   "metadata": {
    "application/vnd.databricks.v1+cell": {
     "cellMetadata": {
      "byteLimit": 2048000,
      "rowLimit": 10000
     },
     "inputWidgets": {},
     "nuid": "0ba51ac4-4634-49a8-9fff-a83c49afe89e",
     "showTitle": false,
     "tableResultSettingsMap": {},
     "title": ""
    }
   },
   "outputs": [],
   "source": [
    "metrics = get_model_metrics(\n",
    "   Y,y_pred,y_pred_abs)"
   ]
  },
  {
   "cell_type": "code",
   "execution_count": 0,
   "metadata": {
    "application/vnd.databricks.v1+cell": {
     "cellMetadata": {
      "byteLimit": 2048000,
      "rowLimit": 10000
     },
     "inputWidgets": {},
     "nuid": "ce03bb25-cd7a-442e-b60b-40a591aca8db",
     "showTitle": false,
     "tableResultSettingsMap": {},
     "title": ""
    }
   },
   "outputs": [],
   "source": [
    "for (metric_name, metric_value) in metrics.items():\n",
    "    push_metric(metric_name, metric_value)"
   ]
  },
  {
   "cell_type": "markdown",
   "metadata": {
    "application/vnd.databricks.v1+cell": {
     "cellMetadata": {
      "byteLimit": 2048000,
      "rowLimit": 10000
     },
     "inputWidgets": {},
     "nuid": "984403e5-9f3e-4aa6-8eb3-74f838696f8d",
     "showTitle": false,
     "tableResultSettingsMap": {},
     "title": ""
    }
   },
   "source": [
    "Save Predictions \n"
   ]
  },
  {
   "cell_type": "code",
   "execution_count": 0,
   "metadata": {
    "application/vnd.databricks.v1+cell": {
     "cellMetadata": {
      "byteLimit": 2048000,
      "rowLimit": 10000
     },
     "inputWidgets": {},
     "nuid": "d948ab67-38b1-4f55-b61e-2246b9684534",
     "showTitle": false,
     "tableResultSettingsMap": {},
     "title": ""
    }
   },
   "outputs": [],
   "source": [
    "preddf['Prediction'] = (y_pred >= y_pred_threshold).astype(int)\n",
    "preddf['Prediction_raw'] = y_pred\n",
    "preddf.to_csv(\"../data/predictions.csv\", index=False)\n",
    "push_artifact(\"../data/predictions.csv\")"
   ]
  },
  {
   "cell_type": "code",
   "execution_count": 0,
   "metadata": {
    "application/vnd.databricks.v1+cell": {
     "cellMetadata": {
      "byteLimit": 2048000,
      "rowLimit": 10000
     },
     "inputWidgets": {},
     "nuid": "051c48e6-126d-47a4-b8d5-b9e914cd44a4",
     "showTitle": false,
     "tableResultSettingsMap": {},
     "title": ""
    }
   },
   "outputs": [],
   "source": [
    "preddf"
   ]
  },
  {
   "cell_type": "markdown",
   "metadata": {
    "application/vnd.databricks.v1+cell": {
     "cellMetadata": {
      "byteLimit": 2048000,
      "rowLimit": 10000
     },
     "inputWidgets": {},
     "nuid": "d7c21bb8-5d78-4bb7-87d8-011e4f620fea",
     "showTitle": false,
     "tableResultSettingsMap": {},
     "title": ""
    }
   },
   "source": [
    "Log artefacts in mlFlow"
   ]
  },
  {
   "cell_type": "code",
   "execution_count": 0,
   "metadata": {
    "application/vnd.databricks.v1+cell": {
     "cellMetadata": {
      "byteLimit": 2048000,
      "rowLimit": 10000
     },
     "inputWidgets": {},
     "nuid": "a2a09e4c-20b4-4981-87cc-b2282801d2e7",
     "showTitle": false,
     "tableResultSettingsMap": {},
     "title": ""
    }
   },
   "outputs": [],
   "source": [
    "\n",
    "if mlflow.active_run() == None:\n",
    "    raise Exception(\"The run hasn't been started, guessing you don't want a partially complete experiment\")\n",
    "\n",
    "# ADD other metrics\n",
    "for (metric_name, metric_value) in mlflow_metrics.items():\n",
    "    print(f\"logging other metric: {metric_name}=metric_value\")\n",
    "    mlflow.log_metric(metric_name, metric_value)\n",
    "\n",
    "for (figure_name, figure) in mlflow_figures.items():\n",
    "    print(f\"logging figure: {figure_name}\")\n",
    "    mlflow.log_figure(figure, figure_name)\n",
    "\n",
    "for (table_name, table_df) in mlflow_tables.items():\n",
    "    print(f\"logging table: {table_name}\")\n",
    "    mlflow.log_table(table_df, table_name)\n",
    "\n",
    "from mlflow.data.pandas_dataset import PandasDataset\n",
    "dataset: PandasDataset = mlflow.data.from_pandas(preddf)\n",
    "mlflow.log_input(dataset, context=\"prediction\")"
   ]
  },
  {
   "cell_type": "code",
   "execution_count": 0,
   "metadata": {
    "application/vnd.databricks.v1+cell": {
     "cellMetadata": {
      "byteLimit": 2048000,
      "rowLimit": 10000
     },
     "inputWidgets": {},
     "nuid": "8ecf2bf4-d4a9-4171-bb6e-0159f4341753",
     "showTitle": false,
     "tableResultSettingsMap": {},
     "title": ""
    }
   },
   "outputs": [],
   "source": [
    "if run:\n",
    "  mlflow.end_run()\n",
    "  print(f\"run complete for: {run.info.run_name}\")\n",
    "  mlflow.lightgbm.autolog(disable=True)\n",
    "  run = None"
   ]
  },
  {
   "cell_type": "code",
   "execution_count": 0,
   "metadata": {
    "application/vnd.databricks.v1+cell": {
     "cellMetadata": {
      "byteLimit": 2048000,
      "rowLimit": 10000
     },
     "inputWidgets": {},
     "nuid": "b517bff1-ff46-4ebd-993b-c0f7227173d8",
     "showTitle": false,
     "tableResultSettingsMap": {},
     "title": ""
    }
   },
   "outputs": [],
   "source": []
  }
 ],
 "metadata": {
  "application/vnd.databricks.v1+notebook": {
   "computePreferences": {
    "hardware": {
     "accelerator": null,
     "gpuPoolId": null,
     "memory": null
    }
   },
   "dashboards": [],
   "environmentMetadata": {
    "base_environment": "",
    "dependencies": [
     "-r /Workspace/Users/kayewan.karanjia@gmail.com/.bundle/CancerClassifier/dev/files/src/requirements.txt"
    ],
    "environment_version": "1"
   },
   "inputWidgetPreferences": null,
   "language": "python",
   "notebookMetadata": {
    "pythonIndentUnit": 4
   },
   "notebookName": "prediction",
   "widgets": {}
  },
  "kernelspec": {
   "display_name": "cancer_classifier_env",
   "language": "python",
   "name": "python3"
  },
  "language_info": {
   "codemirror_mode": {
    "name": "ipython",
    "version": 3
   },
   "file_extension": ".py",
   "mimetype": "text/x-python",
   "name": "python",
   "nbconvert_exporter": "python",
   "pygments_lexer": "ipython3",
   "version": "3.12.11"
  }
 },
 "nbformat": 4,
 "nbformat_minor": 0
}
