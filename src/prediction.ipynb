{
 "cells": [
  {
   "cell_type": "code",
   "execution_count": 1,
   "metadata": {
    "application/vnd.databricks.v1+cell": {
     "cellMetadata": {
      "byteLimit": 2048000,
      "rowLimit": 10000
     },
     "inputWidgets": {},
     "nuid": "280f139f-dcb5-4d49-9bbc-0e95d5e7c311",
     "showTitle": false,
     "tableResultSettingsMap": {},
     "title": ""
    }
   },
   "outputs": [
    {
     "ename": "ModuleNotFoundError",
     "evalue": "No module named 'pyspark'",
     "output_type": "error",
     "traceback": [
      "\u001b[1;31m---------------------------------------------------------------------------\u001b[0m",
      "\u001b[1;31mModuleNotFoundError\u001b[0m                       Traceback (most recent call last)",
      "Cell \u001b[1;32mIn[1], line 22\u001b[0m\n\u001b[0;32m     20\u001b[0m \u001b[38;5;28;01mimport\u001b[39;00m\u001b[38;5;250m \u001b[39m\u001b[38;5;21;01mmatplotlib\u001b[39;00m\u001b[38;5;21;01m.\u001b[39;00m\u001b[38;5;21;01mpyplot\u001b[39;00m\u001b[38;5;250m \u001b[39m\u001b[38;5;28;01mas\u001b[39;00m\u001b[38;5;250m \u001b[39m\u001b[38;5;21;01mplt\u001b[39;00m\n\u001b[0;32m     21\u001b[0m \u001b[38;5;28;01mimport\u001b[39;00m\u001b[38;5;250m \u001b[39m\u001b[38;5;21;01mseaborn\u001b[39;00m\u001b[38;5;250m \u001b[39m\u001b[38;5;28;01mas\u001b[39;00m\u001b[38;5;250m \u001b[39m\u001b[38;5;21;01msns\u001b[39;00m\n\u001b[1;32m---> 22\u001b[0m \u001b[38;5;28;01mimport\u001b[39;00m\u001b[38;5;250m \u001b[39m\u001b[38;5;21;01mpyspark\u001b[39;00m\u001b[38;5;21;01m.\u001b[39;00m\u001b[38;5;21;01msql\u001b[39;00m\u001b[38;5;21;01m.\u001b[39;00m\u001b[38;5;21;01mtypes\u001b[39;00m\u001b[38;5;250m \u001b[39m\u001b[38;5;28;01mas\u001b[39;00m\u001b[38;5;250m \u001b[39m\u001b[38;5;21;01mspark_types\u001b[39;00m\n\u001b[0;32m     24\u001b[0m \u001b[38;5;28;01mfrom\u001b[39;00m\u001b[38;5;250m \u001b[39m\u001b[38;5;21;01mmlflow\u001b[39;00m\u001b[38;5;21;01m.\u001b[39;00m\u001b[38;5;21;01mtracking\u001b[39;00m\u001b[38;5;21;01m.\u001b[39;00m\u001b[38;5;21;01mclient\u001b[39;00m\u001b[38;5;250m \u001b[39m\u001b[38;5;28;01mimport\u001b[39;00m MlflowClient\n",
      "\u001b[1;31mModuleNotFoundError\u001b[0m: No module named 'pyspark'"
     ]
    }
   ],
   "source": [
    "from sklearn.metrics import (\n",
    "    accuracy_score,\n",
    "    f1_score,\n",
    "    fbeta_score,\n",
    "    log_loss,\n",
    "    precision_score,\n",
    "    recall_score,\n",
    "    roc_auc_score,\n",
    "    brier_score_loss,\n",
    ")\n",
    "import numpy as np\n",
    "import pandas as pd\n",
    "import time\n",
    "import mlflow\n",
    "import lightgbm as lgb\n",
    "import os\n",
    "from datetime import datetime, timedelta, date\n",
    "from dateutil.relativedelta import relativedelta\n",
    "from typing import Dict, List, Tuple\n",
    "import matplotlib.pyplot as plt\n",
    "import seaborn as sns\n",
    "import pyspark.sql.types as spark_types\n",
    "\n",
    "from mlflow.tracking.client import MlflowClient"
   ]
  },
  {
   "cell_type": "code",
   "execution_count": 0,
   "metadata": {
    "application/vnd.databricks.v1+cell": {
     "cellMetadata": {
      "byteLimit": 2048000,
      "rowLimit": 10000
     },
     "inputWidgets": {},
     "nuid": "46e58a4d-3411-4c3a-9783-1510efa62041",
     "showTitle": false,
     "tableResultSettingsMap": {},
     "title": ""
    }
   },
   "outputs": [],
   "source": [
    "\n",
    "mlflow.set_registry_uri(\"databricks-uc\")"
   ]
  },
  {
   "cell_type": "markdown",
   "metadata": {
    "application/vnd.databricks.v1+cell": {
     "cellMetadata": {
      "byteLimit": 2048000,
      "rowLimit": 10000
     },
     "inputWidgets": {},
     "nuid": "c6e39cd3-cfa4-4bf6-9c9c-328ed1db2896",
     "showTitle": false,
     "tableResultSettingsMap": {},
     "title": ""
    }
   },
   "source": []
  },
  {
   "cell_type": "code",
   "execution_count": 0,
   "metadata": {
    "application/vnd.databricks.v1+cell": {
     "cellMetadata": {
      "byteLimit": 2048000,
      "rowLimit": 10000
     },
     "inputWidgets": {},
     "nuid": "b24e303d-3e31-4b8c-a06c-6b729b74aeb5",
     "showTitle": false,
     "tableResultSettingsMap": {},
     "title": ""
    }
   },
   "outputs": [],
   "source": [
    "experiment_name = f\"/cancer_classification_prediction\"\n",
    "run_name = \"cancer_classification_prediction_\" + str(pd.Timestamp.now().strftime(\"%Y-%m-%d %H:%M:%S\"))\n",
    "full_model_name = \"cancer_classification_model\"\n",
    "\n",
    "LABEL = \"Target\"\n",
    "y_pred_threshold = 0.5"
   ]
  },
  {
   "cell_type": "code",
   "execution_count": 0,
   "metadata": {
    "application/vnd.databricks.v1+cell": {
     "cellMetadata": {
      "byteLimit": 2048000,
      "rowLimit": 10000
     },
     "inputWidgets": {},
     "nuid": "d78fb8e7-997c-42a5-85fb-0ea2655d0675",
     "showTitle": false,
     "tableResultSettingsMap": {},
     "title": ""
    }
   },
   "outputs": [],
   "source": [
    "mlflow_metrics = {} # a place to pop new metrics into\n",
    "mlflow_figures = {} # a place to pop new matplotlib/sns figures into\n",
    "mlflow_tables = {} # a place to pop new matplotlib/sns figures into\n",
    "mlflow_artifact_paths = []\n",
    "\n",
    "def push_metric(metric_name: str, metric_value: any) -> None:\n",
    "    print(f\"Adding metric {metric_name}: {metric_value}\")\n",
    "    mlflow_metrics[metric_name] = metric_value\n",
    "\n",
    "def push_figure(figure_name: str, figure_value: any):\n",
    "    print(f\"Adding figure {figure_name}: {figure_value}\")\n",
    "    mlflow_figures[figure_name] = figure_value\n",
    "\n",
    "def push_table(table_name: str, table_value: any):\n",
    "    print(f\"Adding table {table_name}: {table_value}\")\n",
    "    mlflow_tables[table_name] = table_value\n",
    "\n",
    "def push_artifact(file_path: str):\n",
    "    print(f\"Adding artifact {file_path}\")\n",
    "    mlflow_artifact_paths.append(file_path)"
   ]
  },
  {
   "cell_type": "code",
   "execution_count": 0,
   "metadata": {
    "application/vnd.databricks.v1+cell": {
     "cellMetadata": {
      "byteLimit": 2048000,
      "rowLimit": 10000
     },
     "inputWidgets": {},
     "nuid": "ed5704b7-baa8-4c23-b0c4-d307647771c2",
     "showTitle": false,
     "tableResultSettingsMap": {},
     "title": ""
    }
   },
   "outputs": [
    {
     "name": "stdout",
     "output_type": "stream",
     "text": [
      "creating run called cancer_classification_prediction_2025-06-18 11:40:47\n"
     ]
    }
   ],
   "source": [
    "mlflow.set_registry_uri(\"databricks-uc\")\n",
    "mlflow.set_experiment(experiment_name)\n",
    "run = mlflow.start_run(run_name=run_name, description=f\"Creating predictions for {experiment_name} using model {full_model_name}\")\n",
    "print(f\"creating run called {run.info.run_name}\")"
   ]
  },
  {
   "cell_type": "code",
   "execution_count": 0,
   "metadata": {
    "application/vnd.databricks.v1+cell": {
     "cellMetadata": {
      "byteLimit": 2048000,
      "rowLimit": 10000
     },
     "inputWidgets": {},
     "nuid": "694fcea1-da4a-4fed-84bd-d8c614d8b444",
     "showTitle": false,
     "tableResultSettingsMap": {},
     "title": ""
    }
   },
   "outputs": [],
   "source": [
    "preddf = pd.read_csv('../data/pred.csv')"
   ]
  },
  {
   "cell_type": "code",
   "execution_count": 0,
   "metadata": {
    "application/vnd.databricks.v1+cell": {
     "cellMetadata": {
      "byteLimit": 2048000,
      "rowLimit": 10000
     },
     "inputWidgets": {},
     "nuid": "4b28499a-f26b-4c3d-bfe1-379a663a151d",
     "showTitle": false,
     "tableResultSettingsMap": {},
     "title": ""
    }
   },
   "outputs": [
    {
     "data": {
      "text/html": [
       "<div>\n",
       "<style scoped>\n",
       "    .dataframe tbody tr th:only-of-type {\n",
       "        vertical-align: middle;\n",
       "    }\n",
       "\n",
       "    .dataframe tbody tr th {\n",
       "        vertical-align: top;\n",
       "    }\n",
       "\n",
       "    .dataframe thead th {\n",
       "        text-align: right;\n",
       "    }\n",
       "</style>\n",
       "<table border=\"1\" class=\"dataframe\">\n",
       "  <thead>\n",
       "    <tr style=\"text-align: right;\">\n",
       "      <th></th>\n",
       "      <th>Age</th>\n",
       "      <th>BMI</th>\n",
       "      <th>Glucose</th>\n",
       "      <th>Insulin</th>\n",
       "      <th>HOMA</th>\n",
       "      <th>Leptin</th>\n",
       "      <th>Adiponectin</th>\n",
       "      <th>Resistin</th>\n",
       "      <th>MCP.1</th>\n",
       "      <th>Target</th>\n",
       "      <th>hour</th>\n",
       "      <th>day</th>\n",
       "      <th>weekday</th>\n",
       "      <th>month</th>\n",
       "      <th>year</th>\n",
       "      <th>BMI_HOMA</th>\n",
       "      <th>L_A_ratio</th>\n",
       "    </tr>\n",
       "  </thead>\n",
       "  <tbody>\n",
       "    <tr>\n",
       "      <th>count</th>\n",
       "      <td>16.000000</td>\n",
       "      <td>16.000000</td>\n",
       "      <td>16.000000</td>\n",
       "      <td>16.000000</td>\n",
       "      <td>16.000000</td>\n",
       "      <td>16.000000</td>\n",
       "      <td>16.000000</td>\n",
       "      <td>16.000000</td>\n",
       "      <td>16.000000</td>\n",
       "      <td>16.000000</td>\n",
       "      <td>16.000000</td>\n",
       "      <td>16.000000</td>\n",
       "      <td>16.000000</td>\n",
       "      <td>16.0</td>\n",
       "      <td>16.0</td>\n",
       "      <td>16.000000</td>\n",
       "      <td>16.000000</td>\n",
       "    </tr>\n",
       "    <tr>\n",
       "      <th>mean</th>\n",
       "      <td>55.750000</td>\n",
       "      <td>28.716246</td>\n",
       "      <td>96.409375</td>\n",
       "      <td>2.073984</td>\n",
       "      <td>2.073303</td>\n",
       "      <td>3.096644</td>\n",
       "      <td>9.247793</td>\n",
       "      <td>2.596799</td>\n",
       "      <td>5.966502</td>\n",
       "      <td>0.437500</td>\n",
       "      <td>10.375000</td>\n",
       "      <td>11.000000</td>\n",
       "      <td>3.312500</td>\n",
       "      <td>6.0</td>\n",
       "      <td>2025.0</td>\n",
       "      <td>63.499570</td>\n",
       "      <td>0.478616</td>\n",
       "    </tr>\n",
       "    <tr>\n",
       "      <th>std</th>\n",
       "      <td>17.860571</td>\n",
       "      <td>6.085963</td>\n",
       "      <td>28.371137</td>\n",
       "      <td>0.566565</td>\n",
       "      <td>1.863471</td>\n",
       "      <td>0.779736</td>\n",
       "      <td>5.733933</td>\n",
       "      <td>0.568737</td>\n",
       "      <td>0.753188</td>\n",
       "      <td>0.512348</td>\n",
       "      <td>5.690636</td>\n",
       "      <td>5.202563</td>\n",
       "      <td>2.056494</td>\n",
       "      <td>0.0</td>\n",
       "      <td>0.0</td>\n",
       "      <td>62.211016</td>\n",
       "      <td>0.317092</td>\n",
       "    </tr>\n",
       "    <tr>\n",
       "      <th>min</th>\n",
       "      <td>28.000000</td>\n",
       "      <td>20.260000</td>\n",
       "      <td>70.000000</td>\n",
       "      <td>1.319086</td>\n",
       "      <td>0.519184</td>\n",
       "      <td>2.032481</td>\n",
       "      <td>2.784910</td>\n",
       "      <td>1.710188</td>\n",
       "      <td>4.219891</td>\n",
       "      <td>0.000000</td>\n",
       "      <td>2.000000</td>\n",
       "      <td>3.000000</td>\n",
       "      <td>0.000000</td>\n",
       "      <td>6.0</td>\n",
       "      <td>2025.0</td>\n",
       "      <td>13.135355</td>\n",
       "      <td>0.129428</td>\n",
       "    </tr>\n",
       "    <tr>\n",
       "      <th>25%</th>\n",
       "      <td>44.750000</td>\n",
       "      <td>22.447393</td>\n",
       "      <td>86.750000</td>\n",
       "      <td>1.512644</td>\n",
       "      <td>0.799202</td>\n",
       "      <td>2.327399</td>\n",
       "      <td>4.812980</td>\n",
       "      <td>2.249262</td>\n",
       "      <td>5.433045</td>\n",
       "      <td>0.000000</td>\n",
       "      <td>6.750000</td>\n",
       "      <td>6.750000</td>\n",
       "      <td>1.750000</td>\n",
       "      <td>6.0</td>\n",
       "      <td>2025.0</td>\n",
       "      <td>18.299349</td>\n",
       "      <td>0.224482</td>\n",
       "    </tr>\n",
       "    <tr>\n",
       "      <th>50%</th>\n",
       "      <td>49.500000</td>\n",
       "      <td>29.268158</td>\n",
       "      <td>89.500000</td>\n",
       "      <td>2.052642</td>\n",
       "      <td>1.536647</td>\n",
       "      <td>3.138329</td>\n",
       "      <td>7.969260</td>\n",
       "      <td>2.539308</td>\n",
       "      <td>5.997775</td>\n",
       "      <td>0.000000</td>\n",
       "      <td>8.500000</td>\n",
       "      <td>11.500000</td>\n",
       "      <td>3.500000</td>\n",
       "      <td>6.0</td>\n",
       "      <td>2025.0</td>\n",
       "      <td>45.870274</td>\n",
       "      <td>0.438474</td>\n",
       "    </tr>\n",
       "    <tr>\n",
       "      <th>75%</th>\n",
       "      <td>69.750000</td>\n",
       "      <td>33.187690</td>\n",
       "      <td>94.500000</td>\n",
       "      <td>2.465110</td>\n",
       "      <td>2.268690</td>\n",
       "      <td>3.838844</td>\n",
       "      <td>10.872461</td>\n",
       "      <td>2.912774</td>\n",
       "      <td>6.410824</td>\n",
       "      <td>1.000000</td>\n",
       "      <td>16.000000</td>\n",
       "      <td>15.000000</td>\n",
       "      <td>5.000000</td>\n",
       "      <td>6.0</td>\n",
       "      <td>2025.0</td>\n",
       "      <td>66.763692</td>\n",
       "      <td>0.731467</td>\n",
       "    </tr>\n",
       "    <tr>\n",
       "      <th>max</th>\n",
       "      <td>86.000000</td>\n",
       "      <td>37.035608</td>\n",
       "      <td>198.550000</td>\n",
       "      <td>3.390372</td>\n",
       "      <td>7.002923</td>\n",
       "      <td>4.241474</td>\n",
       "      <td>21.570000</td>\n",
       "      <td>4.000598</td>\n",
       "      <td>7.438054</td>\n",
       "      <td>1.000000</td>\n",
       "      <td>20.000000</td>\n",
       "      <td>18.000000</td>\n",
       "      <td>6.000000</td>\n",
       "      <td>6.0</td>\n",
       "      <td>2025.0</td>\n",
       "      <td>227.328279</td>\n",
       "      <td>1.194052</td>\n",
       "    </tr>\n",
       "  </tbody>\n",
       "</table>\n",
       "</div>"
      ],
      "text/plain": [
       "             Age        BMI     Glucose  ...    year    BMI_HOMA  L_A_ratio\n",
       "count  16.000000  16.000000   16.000000  ...    16.0   16.000000  16.000000\n",
       "mean   55.750000  28.716246   96.409375  ...  2025.0   63.499570   0.478616\n",
       "std    17.860571   6.085963   28.371137  ...     0.0   62.211016   0.317092\n",
       "min    28.000000  20.260000   70.000000  ...  2025.0   13.135355   0.129428\n",
       "25%    44.750000  22.447393   86.750000  ...  2025.0   18.299349   0.224482\n",
       "50%    49.500000  29.268158   89.500000  ...  2025.0   45.870274   0.438474\n",
       "75%    69.750000  33.187690   94.500000  ...  2025.0   66.763692   0.731467\n",
       "max    86.000000  37.035608  198.550000  ...  2025.0  227.328279   1.194052\n",
       "\n",
       "[8 rows x 17 columns]"
      ]
     },
     "execution_count": 33,
     "metadata": {},
     "output_type": "execute_result"
    }
   ],
   "source": [
    "preddf.describe()"
   ]
  },
  {
   "cell_type": "code",
   "execution_count": 0,
   "metadata": {
    "application/vnd.databricks.v1+cell": {
     "cellMetadata": {
      "byteLimit": 2048000,
      "rowLimit": 10000
     },
     "inputWidgets": {},
     "nuid": "73685868-ab77-4197-938c-eb612255d0ef",
     "showTitle": false,
     "tableResultSettingsMap": {},
     "title": ""
    }
   },
   "outputs": [
    {
     "data": {
      "application/vnd.jupyter.widget-view+json": {
       "model_id": "d4c672f2a08742ed8276eac7bef017db",
       "version_major": 2,
       "version_minor": 0
      },
      "text/plain": [
       "Downloading artifacts:   0%|          | 0/9 [00:00<?, ?it/s]"
      ]
     },
     "metadata": {},
     "output_type": "display_data"
    }
   ],
   "source": [
    "\n",
    "model_version = 4  # or use a specific version, e.g., \"1\"\n",
    "\n",
    "lgbm_model = mlflow.lightgbm.load_model(\n",
    "    model_uri=f\"models:/cancer_classification_model/{model_version}\"\n",
    ")"
   ]
  },
  {
   "cell_type": "code",
   "execution_count": 0,
   "metadata": {
    "application/vnd.databricks.v1+cell": {
     "cellMetadata": {
      "byteLimit": 2048000,
      "rowLimit": 10000
     },
     "inputWidgets": {},
     "nuid": "bb82ee4d-3414-4397-8144-a265e63816b7",
     "showTitle": false,
     "tableResultSettingsMap": {},
     "title": ""
    }
   },
   "outputs": [
    {
     "data": {
      "text/plain": [
       "<lightgbm.basic.Booster at 0x7f2ec485cbb0>"
      ]
     },
     "execution_count": 35,
     "metadata": {},
     "output_type": "execute_result"
    }
   ],
   "source": [
    "lgbm_model"
   ]
  },
  {
   "cell_type": "code",
   "execution_count": 3,
   "metadata": {
    "application/vnd.databricks.v1+cell": {
     "cellMetadata": {
      "byteLimit": 2048000,
      "rowLimit": 10000
     },
     "inputWidgets": {},
     "nuid": "66caec77-e9fa-4189-84b5-44086201f323",
     "showTitle": false,
     "tableResultSettingsMap": {},
     "title": ""
    }
   },
   "outputs": [
    {
     "ename": "NameError",
     "evalue": "name 'preddf' is not defined",
     "output_type": "error",
     "traceback": [
      "\u001b[1;31m---------------------------------------------------------------------------\u001b[0m",
      "\u001b[1;31mNameError\u001b[0m                                 Traceback (most recent call last)",
      "Cell \u001b[1;32mIn[3], line 2\u001b[0m\n\u001b[0;32m      1\u001b[0m \u001b[38;5;66;03m# Prepare data for predictions. In a real world we would not have target in the prediction dataset\u001b[39;00m\n\u001b[1;32m----> 2\u001b[0m Y \u001b[38;5;241m=\u001b[39m \u001b[43mpreddf\u001b[49m[\u001b[38;5;124m'\u001b[39m\u001b[38;5;124mTarget\u001b[39m\u001b[38;5;124m'\u001b[39m]  \n\u001b[0;32m      3\u001b[0m X \u001b[38;5;241m=\u001b[39m preddf\u001b[38;5;241m.\u001b[39mdrop([\u001b[38;5;124m'\u001b[39m\u001b[38;5;124mTarget\u001b[39m\u001b[38;5;124m'\u001b[39m], axis\u001b[38;5;241m=\u001b[39m\u001b[38;5;241m1\u001b[39m)\n\u001b[0;32m      5\u001b[0m \u001b[38;5;66;03m# Generate predictions\u001b[39;00m\n",
      "\u001b[1;31mNameError\u001b[0m: name 'preddf' is not defined"
     ]
    }
   ],
   "source": [
    "\n",
    "\n",
    "# Prepare data for predictions. In a real world we would not have target in the prediction dataset\n",
    "Y = preddf['Target']  \n",
    "X = preddf.drop(['Target'], axis=1)\n",
    "\n",
    "# Generate predictions\n",
    "y_pred = lgbm_model.predict(X)\n",
    "print(y_pred)"
   ]
  },
  {
   "cell_type": "code",
   "execution_count": 0,
   "metadata": {
    "application/vnd.databricks.v1+cell": {
     "cellMetadata": {
      "byteLimit": 2048000,
      "rowLimit": 10000
     },
     "inputWidgets": {},
     "nuid": "bb51b2c2-ecbd-4097-9933-049e2b77b750",
     "showTitle": false,
     "tableResultSettingsMap": {},
     "title": ""
    }
   },
   "outputs": [
    {
     "name": "stdout",
     "output_type": "stream",
     "text": [
      "Adding metric Average raw probability: 0.47931970512258254\n"
     ]
    }
   ],
   "source": [
    "push_metric(\"Average raw probability\", y_pred.mean())"
   ]
  },
  {
   "cell_type": "code",
   "execution_count": 2,
   "metadata": {
    "application/vnd.databricks.v1+cell": {
     "cellMetadata": {
      "byteLimit": 2048000,
      "rowLimit": 10000
     },
     "inputWidgets": {},
     "nuid": "a27ab1d7-6cbd-4586-bbca-8814c5e80d6e",
     "showTitle": false,
     "tableResultSettingsMap": {},
     "title": ""
    }
   },
   "outputs": [
    {
     "ename": "NameError",
     "evalue": "name 'y_pred' is not defined",
     "output_type": "error",
     "traceback": [
      "\u001b[1;31m---------------------------------------------------------------------------\u001b[0m",
      "\u001b[1;31mNameError\u001b[0m                                 Traceback (most recent call last)",
      "Cell \u001b[1;32mIn[2], line 1\u001b[0m\n\u001b[1;32m----> 1\u001b[0m y_pred_abs \u001b[38;5;241m=\u001b[39m (\u001b[43my_pred\u001b[49m \u001b[38;5;241m>\u001b[39m\u001b[38;5;241m=\u001b[39m y_pred_threshold)\u001b[38;5;241m.\u001b[39mastype(\u001b[38;5;28mint\u001b[39m)\n",
      "\u001b[1;31mNameError\u001b[0m: name 'y_pred' is not defined"
     ]
    }
   ],
   "source": [
    "y_pred_abs = (y_pred >= y_pred_threshold).astype(int)"
   ]
  },
  {
   "cell_type": "markdown",
   "metadata": {
    "application/vnd.databricks.v1+cell": {
     "cellMetadata": {
      "byteLimit": 2048000,
      "rowLimit": 10000
     },
     "inputWidgets": {},
     "nuid": "f9856eb7-8953-41c6-87e1-7771c877f0e5",
     "showTitle": false,
     "tableResultSettingsMap": {},
     "title": ""
    }
   },
   "source": [
    "Probability KDE Plot"
   ]
  },
  {
   "cell_type": "code",
   "execution_count": null,
   "metadata": {},
   "outputs": [],
   "source": [
    "\n",
    "plt.figure(figsize=(8, 5))\n",
    "for label in y_pred.unique():\n",
    "    subset = y_pred_abs\n",
    "    sns.kdeplot(subset, label=f\"Target={label}\", fill=True)\n",
    "plt.title(\"Kernel Density Estimate (KDE) of Predicted Probabilities by True Class\")\n",
    "plt.xlabel(\"Predicted Probability\")\n",
    "plt.ylabel(\"Density\")\n",
    "plt.legend()\n",
    "plt.tight_layout()\n",
    "plt.show()"
   ]
  },
  {
   "cell_type": "code",
   "execution_count": 0,
   "metadata": {
    "application/vnd.databricks.v1+cell": {
     "cellMetadata": {
      "byteLimit": 2048000,
      "rowLimit": 10000
     },
     "inputWidgets": {},
     "nuid": "57b3fe3f-7898-4de2-809c-b0c737dca780",
     "showTitle": false,
     "tableResultSettingsMap": {},
     "title": ""
    }
   },
   "outputs": [
    {
     "name": "stdout",
     "output_type": "stream",
     "text": [
      "Adding figure kde_plot.png: Figure(640x480)\n"
     ]
    },
    {
     "name": "stderr",
     "output_type": "stream",
     "text": [
      "/databricks/python/lib/python3.10/site-packages/seaborn/_oldcore.py:1119: FutureWarning: use_inf_as_na option is deprecated and will be removed in a future version. Convert inf values to NaN before operating instead.\n",
      "  with pd.option_context('mode.use_inf_as_na', True):\n"
     ]
    },
    {
     "data": {
      "image/png": "[encoded data removed]",
      "text/plain": [
       "<Figure size 640x480 with 1 Axes>"
      ]
     },
     "metadata": {},
     "output_type": "display_data"
    }
   ],
   "source": [
    "sns.kdeplot(y_pred,fill=True)\n",
    "plt.xlim(0, 1)\n",
    "plt.title(\"KDE plot\")\n",
    "push_figure(\"kde_plot.png\", plt.gcf())\n",
    "plt.show()"
   ]
  },
  {
   "cell_type": "markdown",
   "metadata": {
    "application/vnd.databricks.v1+cell": {
     "cellMetadata": {
      "byteLimit": 2048000,
      "rowLimit": 10000
     },
     "inputWidgets": {},
     "nuid": "4838cd47-ff23-4749-b575-bbb6f55dea92",
     "showTitle": false,
     "tableResultSettingsMap": {},
     "title": ""
    }
   },
   "source": [
    "Calculate Metrics "
   ]
  },
  {
   "cell_type": "code",
   "execution_count": 0,
   "metadata": {
    "application/vnd.databricks.v1+cell": {
     "cellMetadata": {
      "byteLimit": 2048000,
      "rowLimit": 10000
     },
     "inputWidgets": {},
     "nuid": "e4a7d13c-5041-4bbb-bd38-2a8e7f9bd378",
     "showTitle": false,
     "tableResultSettingsMap": {},
     "title": ""
    }
   },
   "outputs": [],
   "source": [
    "def get_model_metrics(\n",
    "    y_test: pd.DataFrame, y_pred_probablity: pd.Series, y_pred_label: pd.Series\n",
    ") -> dict:\n",
    "   \n",
    "    # pred_threshold = np.percentile(y_pred_probablity, 60)\n",
    "    # y_pred_label = np.where(y_pred_probablity >= pred_threshold, 1, 0)\n",
    "\n",
    "    metrics = {\n",
    "        \"logloss\": log_loss(y_test, y_pred_probablity),\n",
    "        \"accuracy\": accuracy_score(y_test, y_pred_label),        \n",
    "        \"f1_score\": f1_score(y_test, y_pred_label),\n",
    "        \"f05_score\": fbeta_score(y_test, y_pred_label, beta=0.5),\n",
    "        \"precision_score\": precision_score(y_test, y_pred_label),\n",
    "        \"recall_score\": recall_score(y_test, y_pred_label),\n",
    "        \"roc_auc_score\": roc_auc_score(y_test, y_pred_probablity),\n",
    "        \"y_real_mean\": y_test.mean(),\n",
    "        \"y_pred_mean\": y_pred_probablity.mean(),\n",
    "    }\n",
    "    return metrics"
   ]
  },
  {
   "cell_type": "code",
   "execution_count": 0,
   "metadata": {
    "application/vnd.databricks.v1+cell": {
     "cellMetadata": {
      "byteLimit": 2048000,
      "rowLimit": 10000
     },
     "inputWidgets": {},
     "nuid": "0ba51ac4-4634-49a8-9fff-a83c49afe89e",
     "showTitle": false,
     "tableResultSettingsMap": {},
     "title": ""
    }
   },
   "outputs": [],
   "source": [
    "metrics = get_model_metrics(\n",
    "   Y,y_pred,y_pred_abs)"
   ]
  },
  {
   "cell_type": "code",
   "execution_count": 0,
   "metadata": {
    "application/vnd.databricks.v1+cell": {
     "cellMetadata": {
      "byteLimit": 2048000,
      "rowLimit": 10000
     },
     "inputWidgets": {},
     "nuid": "ce03bb25-cd7a-442e-b60b-40a591aca8db",
     "showTitle": false,
     "tableResultSettingsMap": {},
     "title": ""
    }
   },
   "outputs": [
    {
     "name": "stdout",
     "output_type": "stream",
     "text": [
      "Adding metric logloss: 0.06591811169448782\n",
      "Adding metric accuracy: 0.9375\n",
      "Adding metric f1_score: 0.9333333333333333\n",
      "Adding metric f05_score: 0.8974358974358975\n",
      "Adding metric precision_score: 0.875\n",
      "Adding metric recall_score: 1.0\n",
      "Adding metric roc_auc_score: 1.0\n",
      "Adding metric y_real_mean: 0.4375\n",
      "Adding metric y_pred_mean: 0.47931970512258254\n"
     ]
    }
   ],
   "source": [
    "for (metric_name, metric_value) in metrics.items():\n",
    "    push_metric(metric_name, metric_value)"
   ]
  },
  {
   "cell_type": "markdown",
   "metadata": {
    "application/vnd.databricks.v1+cell": {
     "cellMetadata": {
      "byteLimit": 2048000,
      "rowLimit": 10000
     },
     "inputWidgets": {},
     "nuid": "984403e5-9f3e-4aa6-8eb3-74f838696f8d",
     "showTitle": false,
     "tableResultSettingsMap": {},
     "title": ""
    }
   },
   "source": [
    "Save Predictions \n"
   ]
  },
  {
   "cell_type": "code",
   "execution_count": 0,
   "metadata": {
    "application/vnd.databricks.v1+cell": {
     "cellMetadata": {
      "byteLimit": 2048000,
      "rowLimit": 10000
     },
     "inputWidgets": {},
     "nuid": "d948ab67-38b1-4f55-b61e-2246b9684534",
     "showTitle": false,
     "tableResultSettingsMap": {},
     "title": ""
    }
   },
   "outputs": [
    {
     "name": "stdout",
     "output_type": "stream",
     "text": [
      "Adding artifact predictions.csv\n"
     ]
    }
   ],
   "source": [
    "preddf['Prediction'] = (y_pred >= y_pred_threshold).astype(int)\n",
    "preddf['Prediction_raw'] = y_pred\n",
    "preddf.to_csv(\"../data/predictions.csv\", index=False)\n",
    "push_artifact(\"../data/predictions.csv\")"
   ]
  },
  {
   "cell_type": "code",
   "execution_count": 0,
   "metadata": {
    "application/vnd.databricks.v1+cell": {
     "cellMetadata": {
      "byteLimit": 2048000,
      "rowLimit": 10000
     },
     "inputWidgets": {},
     "nuid": "051c48e6-126d-47a4-b8d5-b9e914cd44a4",
     "showTitle": false,
     "tableResultSettingsMap": {},
     "title": ""
    }
   },
   "outputs": [
    {
     "data": {
      "text/html": [
       "<div>\n",
       "<style scoped>\n",
       "    .dataframe tbody tr th:only-of-type {\n",
       "        vertical-align: middle;\n",
       "    }\n",
       "\n",
       "    .dataframe tbody tr th {\n",
       "        vertical-align: top;\n",
       "    }\n",
       "\n",
       "    .dataframe thead th {\n",
       "        text-align: right;\n",
       "    }\n",
       "</style>\n",
       "<table border=\"1\" class=\"dataframe\">\n",
       "  <thead>\n",
       "    <tr style=\"text-align: right;\">\n",
       "      <th></th>\n",
       "      <th>Age</th>\n",
       "      <th>BMI</th>\n",
       "      <th>Glucose</th>\n",
       "      <th>Insulin</th>\n",
       "      <th>HOMA</th>\n",
       "      <th>Leptin</th>\n",
       "      <th>Adiponectin</th>\n",
       "      <th>Resistin</th>\n",
       "      <th>MCP.1</th>\n",
       "      <th>Target</th>\n",
       "      <th>hour</th>\n",
       "      <th>day</th>\n",
       "      <th>weekday</th>\n",
       "      <th>month</th>\n",
       "      <th>year</th>\n",
       "      <th>BMI_HOMA</th>\n",
       "      <th>L_A_ratio</th>\n",
       "      <th>Prediction</th>\n",
       "      <th>Prediction_raw</th>\n",
       "    </tr>\n",
       "  </thead>\n",
       "  <tbody>\n",
       "    <tr>\n",
       "      <th>0</th>\n",
       "      <td>86.0</td>\n",
       "      <td>21.111111</td>\n",
       "      <td>92.00</td>\n",
       "      <td>1.514907</td>\n",
       "      <td>0.805386</td>\n",
       "      <td>2.041142</td>\n",
       "      <td>4.819240</td>\n",
       "      <td>2.448964</td>\n",
       "      <td>6.652760</td>\n",
       "      <td>0</td>\n",
       "      <td>2</td>\n",
       "      <td>14.0</td>\n",
       "      <td>5</td>\n",
       "      <td>6</td>\n",
       "      <td>2025</td>\n",
       "      <td>17.002602</td>\n",
       "      <td>0.423540</td>\n",
       "      <td>0</td>\n",
       "      <td>5.089920e-01</td>\n",
       "    </tr>\n",
       "    <tr>\n",
       "      <th>1</th>\n",
       "      <td>44.0</td>\n",
       "      <td>20.760000</td>\n",
       "      <td>86.00</td>\n",
       "      <td>2.146282</td>\n",
       "      <td>1.600000</td>\n",
       "      <td>2.714032</td>\n",
       "      <td>20.320000</td>\n",
       "      <td>2.156403</td>\n",
       "      <td>4.219891</td>\n",
       "      <td>0</td>\n",
       "      <td>16</td>\n",
       "      <td>7.0</td>\n",
       "      <td>5</td>\n",
       "      <td>6</td>\n",
       "      <td>2025</td>\n",
       "      <td>33.216000</td>\n",
       "      <td>0.133565</td>\n",
       "      <td>0</td>\n",
       "      <td>2.325717e-01</td>\n",
       "    </tr>\n",
       "    <tr>\n",
       "      <th>2</th>\n",
       "      <td>32.0</td>\n",
       "      <td>36.512637</td>\n",
       "      <td>87.00</td>\n",
       "      <td>2.709782</td>\n",
       "      <td>3.009980</td>\n",
       "      <td>3.919449</td>\n",
       "      <td>5.100000</td>\n",
       "      <td>2.896035</td>\n",
       "      <td>6.379207</td>\n",
       "      <td>0</td>\n",
       "      <td>8</td>\n",
       "      <td>17.0</td>\n",
       "      <td>1</td>\n",
       "      <td>6</td>\n",
       "      <td>2025</td>\n",
       "      <td>109.902294</td>\n",
       "      <td>0.768519</td>\n",
       "      <td>0</td>\n",
       "      <td>1.918308e-03</td>\n",
       "    </tr>\n",
       "    <tr>\n",
       "      <th>3</th>\n",
       "      <td>45.0</td>\n",
       "      <td>37.035608</td>\n",
       "      <td>83.00</td>\n",
       "      <td>2.048982</td>\n",
       "      <td>1.383997</td>\n",
       "      <td>3.713089</td>\n",
       "      <td>4.617125</td>\n",
       "      <td>2.272588</td>\n",
       "      <td>6.375319</td>\n",
       "      <td>0</td>\n",
       "      <td>6</td>\n",
       "      <td>18.0</td>\n",
       "      <td>2</td>\n",
       "      <td>6</td>\n",
       "      <td>2025</td>\n",
       "      <td>51.257183</td>\n",
       "      <td>0.804199</td>\n",
       "      <td>0</td>\n",
       "      <td>4.554870e-10</td>\n",
       "    </tr>\n",
       "    <tr>\n",
       "      <th>4</th>\n",
       "      <td>35.0</td>\n",
       "      <td>35.250761</td>\n",
       "      <td>90.00</td>\n",
       "      <td>2.056301</td>\n",
       "      <td>1.513374</td>\n",
       "      <td>3.943704</td>\n",
       "      <td>6.966895</td>\n",
       "      <td>3.137103</td>\n",
       "      <td>6.505676</td>\n",
       "      <td>0</td>\n",
       "      <td>20</td>\n",
       "      <td>15.0</td>\n",
       "      <td>6</td>\n",
       "      <td>6</td>\n",
       "      <td>2025</td>\n",
       "      <td>53.347585</td>\n",
       "      <td>0.566063</td>\n",
       "      <td>0</td>\n",
       "      <td>2.655789e-07</td>\n",
       "    </tr>\n",
       "    <tr>\n",
       "      <th>5</th>\n",
       "      <td>28.0</td>\n",
       "      <td>35.855815</td>\n",
       "      <td>87.00</td>\n",
       "      <td>2.259260</td>\n",
       "      <td>1.840410</td>\n",
       "      <td>4.241474</td>\n",
       "      <td>4.794200</td>\n",
       "      <td>3.111008</td>\n",
       "      <td>5.885059</td>\n",
       "      <td>0</td>\n",
       "      <td>18</td>\n",
       "      <td>3.0</td>\n",
       "      <td>1</td>\n",
       "      <td>6</td>\n",
       "      <td>2025</td>\n",
       "      <td>65.989386</td>\n",
       "      <td>0.884709</td>\n",
       "      <td>0</td>\n",
       "      <td>2.303406e-06</td>\n",
       "    </tr>\n",
       "    <tr>\n",
       "      <th>6</th>\n",
       "      <td>69.0</td>\n",
       "      <td>32.500000</td>\n",
       "      <td>93.00</td>\n",
       "      <td>1.860975</td>\n",
       "      <td>1.245642</td>\n",
       "      <td>2.781610</td>\n",
       "      <td>11.787960</td>\n",
       "      <td>2.548504</td>\n",
       "      <td>5.602643</td>\n",
       "      <td>0</td>\n",
       "      <td>17</td>\n",
       "      <td>6.0</td>\n",
       "      <td>4</td>\n",
       "      <td>6</td>\n",
       "      <td>2025</td>\n",
       "      <td>40.483365</td>\n",
       "      <td>0.235970</td>\n",
       "      <td>0</td>\n",
       "      <td>3.859536e-05</td>\n",
       "    </tr>\n",
       "    <tr>\n",
       "      <th>7</th>\n",
       "      <td>78.0</td>\n",
       "      <td>25.300000</td>\n",
       "      <td>70.00</td>\n",
       "      <td>1.505854</td>\n",
       "      <td>0.519184</td>\n",
       "      <td>2.032481</td>\n",
       "      <td>10.567295</td>\n",
       "      <td>1.734095</td>\n",
       "      <td>5.350668</td>\n",
       "      <td>0</td>\n",
       "      <td>8</td>\n",
       "      <td>4.0</td>\n",
       "      <td>2</td>\n",
       "      <td>6</td>\n",
       "      <td>2025</td>\n",
       "      <td>13.135355</td>\n",
       "      <td>0.192337</td>\n",
       "      <td>0</td>\n",
       "      <td>3.460911e-08</td>\n",
       "    </tr>\n",
       "    <tr>\n",
       "      <th>8</th>\n",
       "      <td>69.0</td>\n",
       "      <td>29.400000</td>\n",
       "      <td>89.00</td>\n",
       "      <td>2.459931</td>\n",
       "      <td>2.349885</td>\n",
       "      <td>3.834537</td>\n",
       "      <td>8.286300</td>\n",
       "      <td>1.710188</td>\n",
       "      <td>5.378832</td>\n",
       "      <td>0</td>\n",
       "      <td>2</td>\n",
       "      <td>7.0</td>\n",
       "      <td>5</td>\n",
       "      <td>6</td>\n",
       "      <td>2025</td>\n",
       "      <td>69.086613</td>\n",
       "      <td>0.462756</td>\n",
       "      <td>0</td>\n",
       "      <td>1.927764e-05</td>\n",
       "    </tr>\n",
       "    <tr>\n",
       "      <th>9</th>\n",
       "      <td>68.0</td>\n",
       "      <td>21.082813</td>\n",
       "      <td>102.00</td>\n",
       "      <td>1.974081</td>\n",
       "      <td>1.559920</td>\n",
       "      <td>2.370188</td>\n",
       "      <td>8.574655</td>\n",
       "      <td>2.690730</td>\n",
       "      <td>6.108801</td>\n",
       "      <td>1</td>\n",
       "      <td>7</td>\n",
       "      <td>13.0</td>\n",
       "      <td>4</td>\n",
       "      <td>6</td>\n",
       "      <td>2025</td>\n",
       "      <td>32.887502</td>\n",
       "      <td>0.276418</td>\n",
       "      <td>1</td>\n",
       "      <td>9.999969e-01</td>\n",
       "    </tr>\n",
       "    <tr>\n",
       "      <th>10</th>\n",
       "      <td>51.0</td>\n",
       "      <td>22.892820</td>\n",
       "      <td>103.00</td>\n",
       "      <td>1.319086</td>\n",
       "      <td>0.696143</td>\n",
       "      <td>2.199034</td>\n",
       "      <td>9.349775</td>\n",
       "      <td>2.530113</td>\n",
       "      <td>5.886748</td>\n",
       "      <td>1</td>\n",
       "      <td>7</td>\n",
       "      <td>15.0</td>\n",
       "      <td>6</td>\n",
       "      <td>6</td>\n",
       "      <td>2025</td>\n",
       "      <td>15.936669</td>\n",
       "      <td>0.235196</td>\n",
       "      <td>1</td>\n",
       "      <td>1.000000e+00</td>\n",
       "    </tr>\n",
       "    <tr>\n",
       "      <th>11</th>\n",
       "      <td>45.0</td>\n",
       "      <td>20.260000</td>\n",
       "      <td>92.00</td>\n",
       "      <td>1.490654</td>\n",
       "      <td>0.780651</td>\n",
       "      <td>2.157559</td>\n",
       "      <td>16.670000</td>\n",
       "      <td>2.179287</td>\n",
       "      <td>5.272333</td>\n",
       "      <td>1</td>\n",
       "      <td>14</td>\n",
       "      <td>10.0</td>\n",
       "      <td>1</td>\n",
       "      <td>6</td>\n",
       "      <td>2025</td>\n",
       "      <td>15.815983</td>\n",
       "      <td>0.129428</td>\n",
       "      <td>1</td>\n",
       "      <td>9.913570e-01</td>\n",
       "    </tr>\n",
       "    <tr>\n",
       "      <th>12</th>\n",
       "      <td>48.0</td>\n",
       "      <td>32.461911</td>\n",
       "      <td>99.00</td>\n",
       "      <td>3.390372</td>\n",
       "      <td>7.002923</td>\n",
       "      <td>3.851763</td>\n",
       "      <td>21.570000</td>\n",
       "      <td>2.412090</td>\n",
       "      <td>6.605344</td>\n",
       "      <td>1</td>\n",
       "      <td>10</td>\n",
       "      <td>15.0</td>\n",
       "      <td>6</td>\n",
       "      <td>6</td>\n",
       "      <td>2025</td>\n",
       "      <td>227.328279</td>\n",
       "      <td>0.178570</td>\n",
       "      <td>1</td>\n",
       "      <td>9.999992e-01</td>\n",
       "    </tr>\n",
       "    <tr>\n",
       "      <th>13</th>\n",
       "      <td>48.0</td>\n",
       "      <td>31.250000</td>\n",
       "      <td>198.55</td>\n",
       "      <td>2.577334</td>\n",
       "      <td>5.969920</td>\n",
       "      <td>2.951331</td>\n",
       "      <td>4.104105</td>\n",
       "      <td>4.000598</td>\n",
       "      <td>7.438054</td>\n",
       "      <td>1</td>\n",
       "      <td>16</td>\n",
       "      <td>9.0</td>\n",
       "      <td>0</td>\n",
       "      <td>6</td>\n",
       "      <td>2025</td>\n",
       "      <td>186.560012</td>\n",
       "      <td>0.719117</td>\n",
       "      <td>1</td>\n",
       "      <td>1.000000e+00</td>\n",
       "    </tr>\n",
       "    <tr>\n",
       "      <th>14</th>\n",
       "      <td>74.0</td>\n",
       "      <td>28.650138</td>\n",
       "      <td>88.00</td>\n",
       "      <td>1.389290</td>\n",
       "      <td>0.653805</td>\n",
       "      <td>3.469582</td>\n",
       "      <td>7.652220</td>\n",
       "      <td>2.962989</td>\n",
       "      <td>6.351585</td>\n",
       "      <td>1</td>\n",
       "      <td>9</td>\n",
       "      <td>5.0</td>\n",
       "      <td>3</td>\n",
       "      <td>6</td>\n",
       "      <td>2025</td>\n",
       "      <td>18.731598</td>\n",
       "      <td>0.453409</td>\n",
       "      <td>1</td>\n",
       "      <td>9.345639e-01</td>\n",
       "    </tr>\n",
       "    <tr>\n",
       "      <th>15</th>\n",
       "      <td>72.0</td>\n",
       "      <td>29.136316</td>\n",
       "      <td>83.00</td>\n",
       "      <td>2.480648</td>\n",
       "      <td>2.241625</td>\n",
       "      <td>3.325327</td>\n",
       "      <td>2.784910</td>\n",
       "      <td>2.758088</td>\n",
       "      <td>5.451116</td>\n",
       "      <td>1</td>\n",
       "      <td>6</td>\n",
       "      <td>18.0</td>\n",
       "      <td>2</td>\n",
       "      <td>6</td>\n",
       "      <td>2025</td>\n",
       "      <td>65.312703</td>\n",
       "      <td>1.194052</td>\n",
       "      <td>1</td>\n",
       "      <td>9.996558e-01</td>\n",
       "    </tr>\n",
       "  </tbody>\n",
       "</table>\n",
       "</div>"
      ],
      "text/plain": [
       "     Age        BMI  Glucose  ...  L_A_ratio  Prediction  Prediction_raw\n",
       "0   86.0  21.111111    92.00  ...   0.423540           0    5.089920e-01\n",
       "1   44.0  20.760000    86.00  ...   0.133565           0    2.325717e-01\n",
       "2   32.0  36.512637    87.00  ...   0.768519           0    1.918308e-03\n",
       "3   45.0  37.035608    83.00  ...   0.804199           0    4.554870e-10\n",
       "4   35.0  35.250761    90.00  ...   0.566063           0    2.655789e-07\n",
       "5   28.0  35.855815    87.00  ...   0.884709           0    2.303406e-06\n",
       "6   69.0  32.500000    93.00  ...   0.235970           0    3.859536e-05\n",
       "7   78.0  25.300000    70.00  ...   0.192337           0    3.460911e-08\n",
       "8   69.0  29.400000    89.00  ...   0.462756           0    1.927764e-05\n",
       "9   68.0  21.082813   102.00  ...   0.276418           1    9.999969e-01\n",
       "10  51.0  22.892820   103.00  ...   0.235196           1    1.000000e+00\n",
       "11  45.0  20.260000    92.00  ...   0.129428           1    9.913570e-01\n",
       "12  48.0  32.461911    99.00  ...   0.178570           1    9.999992e-01\n",
       "13  48.0  31.250000   198.55  ...   0.719117           1    1.000000e+00\n",
       "14  74.0  28.650138    88.00  ...   0.453409           1    9.345639e-01\n",
       "15  72.0  29.136316    83.00  ...   1.194052           1    9.996558e-01\n",
       "\n",
       "[16 rows x 19 columns]"
      ]
     },
     "execution_count": 72,
     "metadata": {},
     "output_type": "execute_result"
    }
   ],
   "source": [
    "preddf"
   ]
  },
  {
   "cell_type": "markdown",
   "metadata": {
    "application/vnd.databricks.v1+cell": {
     "cellMetadata": {
      "byteLimit": 2048000,
      "rowLimit": 10000
     },
     "inputWidgets": {},
     "nuid": "d7c21bb8-5d78-4bb7-87d8-011e4f620fea",
     "showTitle": false,
     "tableResultSettingsMap": {},
     "title": ""
    }
   },
   "source": [
    "Log artefacts in mlFlow"
   ]
  },
  {
   "cell_type": "code",
   "execution_count": 0,
   "metadata": {
    "application/vnd.databricks.v1+cell": {
     "cellMetadata": {
      "byteLimit": 2048000,
      "rowLimit": 10000
     },
     "inputWidgets": {},
     "nuid": "a2a09e4c-20b4-4981-87cc-b2282801d2e7",
     "showTitle": false,
     "tableResultSettingsMap": {},
     "title": ""
    }
   },
   "outputs": [
    {
     "name": "stdout",
     "output_type": "stream",
     "text": [
      "logging other metric: Average raw probability=metric_value\n",
      "logging other metric: logloss=metric_value\n",
      "logging other metric: pred_threshold=metric_value\n",
      "logging other metric: accuracy=metric_value\n",
      "logging other metric: f1_score=metric_value\n",
      "logging other metric: f05_score=metric_value\n",
      "logging other metric: precision_score=metric_value\n",
      "logging other metric: recall_score=metric_value\n",
      "logging other metric: roc_auc_score=metric_value\n",
      "logging other metric: y_real_mean=metric_value\n",
      "logging other metric: y_pred_mean=metric_value\n",
      "logging other metric: iterations=metric_value\n",
      "logging figure: kde_plot.png\n"
     ]
    },
    {
     "name": "stderr",
     "output_type": "stream",
     "text": [
      "/local_disk0/.ephemeral_nfs/envs/pythonEnv-ab449165-2923-4171-934a-a8e0e572f42f/lib/python3.10/site-packages/mlflow/types/utils.py:452: UserWarning: Hint: Inferred schema contains integer column(s). Integer columns in Python cannot represent missing values. If your input data contains missing values at inference time, it will be encoded as floats and will cause a schema enforcement error. The best way to avoid this problem is to infer the model schema based on a realistic data sample (training dataset) that includes missing values. Alternatively, you can declare integer columns as doubles (float64) whenever these columns may have missing values. See `Handling Integers With Missing Values <https://www.mlflow.org/docs/latest/models.html#handling-integers-with-missing-values>`_ for more details.\n",
      "  warnings.warn(\n"
     ]
    }
   ],
   "source": [
    "\n",
    "if mlflow.active_run() == None:\n",
    "    raise Exception(\"The run hasn't been started, guessing you don't want a partially complete experiment\")\n",
    "\n",
    "# ADD other metrics\n",
    "for (metric_name, metric_value) in mlflow_metrics.items():\n",
    "    print(f\"logging other metric: {metric_name}=metric_value\")\n",
    "    mlflow.log_metric(metric_name, metric_value)\n",
    "\n",
    "for (figure_name, figure) in mlflow_figures.items():\n",
    "    print(f\"logging figure: {figure_name}\")\n",
    "    mlflow.log_figure(figure, figure_name)\n",
    "\n",
    "for (table_name, table_df) in mlflow_tables.items():\n",
    "    print(f\"logging table: {table_name}\")\n",
    "    mlflow.log_table(table_df, table_name)\n",
    "\n",
    "from mlflow.data.pandas_dataset import PandasDataset\n",
    "dataset: PandasDataset = mlflow.data.from_pandas(preddf)\n",
    "mlflow.log_input(dataset, context=\"prediction\")"
   ]
  },
  {
   "cell_type": "code",
   "execution_count": 0,
   "metadata": {
    "application/vnd.databricks.v1+cell": {
     "cellMetadata": {
      "byteLimit": 2048000,
      "rowLimit": 10000
     },
     "inputWidgets": {},
     "nuid": "8ecf2bf4-d4a9-4171-bb6e-0159f4341753",
     "showTitle": false,
     "tableResultSettingsMap": {},
     "title": ""
    }
   },
   "outputs": [
    {
     "name": "stdout",
     "output_type": "stream",
     "text": [
      "run complete for: cancer_classification_prediction_2025-06-18 11:40:47\n"
     ]
    }
   ],
   "source": [
    "if run:\n",
    "  mlflow.end_run()\n",
    "  print(f\"run complete for: {run.info.run_name}\")\n",
    "  mlflow.lightgbm.autolog(disable=True)\n",
    "  run = None"
   ]
  },
  {
   "cell_type": "code",
   "execution_count": 0,
   "metadata": {
    "application/vnd.databricks.v1+cell": {
     "cellMetadata": {
      "byteLimit": 2048000,
      "rowLimit": 10000
     },
     "inputWidgets": {},
     "nuid": "b517bff1-ff46-4ebd-993b-c0f7227173d8",
     "showTitle": false,
     "tableResultSettingsMap": {},
     "title": ""
    }
   },
   "outputs": [],
   "source": []
  }
 ],
 "metadata": {
  "application/vnd.databricks.v1+notebook": {
   "computePreferences": {
    "hardware": {
     "accelerator": null,
     "gpuPoolId": null,
     "memory": null
    }
   },
   "dashboards": [],
   "environmentMetadata": {
    "base_environment": "",
    "dependencies": [
     "-r /Workspace/Users/kayewan.karanjia@gmail.com/.bundle/CancerClassifier/dev/files/src/requirements.txt"
    ],
    "environment_version": "1"
   },
   "inputWidgetPreferences": null,
   "language": "python",
   "notebookMetadata": {
    "pythonIndentUnit": 4
   },
   "notebookName": "prediction",
   "widgets": {}
  },
  "kernelspec": {
   "display_name": "cancer_classifier_env",
   "language": "python",
   "name": "python3"
  },
  "language_info": {
   "codemirror_mode": {
    "name": "ipython",
    "version": 3
   },
   "file_extension": ".py",
   "mimetype": "text/x-python",
   "name": "python",
   "nbconvert_exporter": "python",
   "pygments_lexer": "ipython3",
   "version": "3.12.11"
  }
 },
 "nbformat": 4,
 "nbformat_minor": 0
}
